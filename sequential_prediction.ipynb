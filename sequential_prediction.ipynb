{
 "cells": [
  {
   "cell_type": "code",
   "execution_count": 1,
   "metadata": {},
   "outputs": [],
   "source": [
    "import tensorflow as tf\n",
    "import numpy as np\n",
    "from tensorflow.contrib import rnn\n",
    "import random\n",
    "import collections\n",
    "import time"
   ]
  },
  {
   "cell_type": "code",
   "execution_count": 2,
   "metadata": {},
   "outputs": [],
   "source": [
    "training_file = 'story.txt'\n",
    "tf.reset_default_graph()"
   ]
  },
  {
   "cell_type": "code",
   "execution_count": 3,
   "metadata": {},
   "outputs": [],
   "source": [
    "start_time = time.time()\n",
    "def elapsed(sec):\n",
    "    if sec<60:\n",
    "        return str(sec) + \"sec\"\n",
    "    elif sec<(60 * 60):\n",
    "        return str(sec/60) + \"min\"\n",
    "    else:\n",
    "        return str(sec/(60 * 60)) + \"hr\""
   ]
  },
  {
   "cell_type": "code",
   "execution_count": 4,
   "metadata": {},
   "outputs": [],
   "source": [
    "#path declre\n",
    "logs_path = r\"C:\\Users\\PABITRA\\SELF\"\n",
    "writter = tf.summary.FileWriter(logs_path)"
   ]
  },
  {
   "cell_type": "code",
   "execution_count": 5,
   "metadata": {},
   "outputs": [],
   "source": [
    "#read data\n",
    "\n",
    "def read_data(fname):\n",
    "    with open(fname) as f:\n",
    "        content = f.readlines()\n",
    "    content = [x.strip() for x in content]\n",
    "    content = [content[i].split() for i in range(len(content))]\n",
    "    content = np.array(content)\n",
    "    content = np.reshape(content, [-1, ])\n",
    "    return content"
   ]
  },
  {
   "cell_type": "code",
   "execution_count": 6,
   "metadata": {},
   "outputs": [
    {
     "name": "stdout",
     "output_type": "stream",
     "text": [
      "loaded training data....\n"
     ]
    }
   ],
   "source": [
    "training_data = read_data(training_file)\n",
    "print(\"loaded training data....\")"
   ]
  },
  {
   "cell_type": "code",
   "execution_count": 7,
   "metadata": {},
   "outputs": [],
   "source": [
    "#frequency of occurance word into a dictionary\n",
    "def build_dataset(words):\n",
    "    count = collections.Counter(words).most_common()\n",
    "    dictionary = dict()\n",
    "    for word,_ in count:\n",
    "        dictionary[word] = len(dictionary)\n",
    "    reverse_dictionary = dict(zip(dictionary.values(), dictionary.keys()))\n",
    "    return dictionary, reverse_dictionary"
   ]
  },
  {
   "cell_type": "code",
   "execution_count": 8,
   "metadata": {},
   "outputs": [
    {
     "data": {
      "text/plain": [
       "113"
      ]
     },
     "execution_count": 8,
     "metadata": {},
     "output_type": "execute_result"
    }
   ],
   "source": [
    "dictionary, reverse_dictionary = build_dataset(training_data)\n",
    "vocab_size = len(dictionary)\n",
    "vocab_size"
   ]
  },
  {
   "cell_type": "code",
   "execution_count": 9,
   "metadata": {},
   "outputs": [],
   "source": [
    "#declare model parametrs\n",
    "\n",
    "learning_rate = 0.001\n",
    "training_iters = 50000\n",
    "display_step = 1000\n",
    "n_input = 3\n",
    "n_hidden = 512"
   ]
  },
  {
   "cell_type": "code",
   "execution_count": 10,
   "metadata": {},
   "outputs": [
    {
     "name": "stdout",
     "output_type": "stream",
     "text": [
      "WARNING:tensorflow:From C:\\Users\\PABITRA\\Anaconda3\\lib\\site-packages\\tensorflow\\python\\framework\\op_def_library.py:263: colocate_with (from tensorflow.python.framework.ops) is deprecated and will be removed in a future version.\n",
      "Instructions for updating:\n",
      "Colocations handled automatically by placer.\n"
     ]
    }
   ],
   "source": [
    "#DECLARE MODEL PLACEHOLDER\n",
    " \n",
    "x = tf.placeholder(\"float\", [None, n_input, 1])\n",
    "y = tf.placeholder(\"float\", [None, vocab_size])\n",
    "\n",
    "#DECLARE MODEL VARIABLES\n",
    "\n",
    "weights = { 'out': tf.Variable(tf.random_normal([n_hidden, vocab_size]))}\n",
    "biases = { 'out': tf.Variable(tf.random_normal([vocab_size]))}\n",
    "\n",
    "#DECLARE MODEL OPERATION\n",
    "\n",
    "def RNN(x, weights, biases):\n",
    "    #reshape x into[1, n_input]\n",
    "    x= tf.reshape(x, [-1, n_input])\n",
    "    \n",
    "    #generate a n_input element sequence of inputs\n",
    "    #eg [had] [a] [ general]\n",
    "    x = tf.split(x, n_input,1)\n",
    "    \n",
    "    #2-layer lstm with 512 hidden units\n",
    "    rnn_cell = rnn.MultiRNNCell([rnn.BasicLSTMCell(n_hidden), rnn.BasicLSTMCell(n_hidden)])\n",
    "    \n",
    "    #generate prediction\n",
    "    outputs,states = rnn.static_rnn(rnn_cell, x, dtype=tf.float32)\n",
    "         \n",
    "    \n",
    "    #there are n_input outputs but we only want the last output\n",
    "    return tf.add(tf.matmul(outputs[-1], weights['out']), biases['out'])"
   ]
  },
  {
   "cell_type": "code",
   "execution_count": 11,
   "metadata": {},
   "outputs": [
    {
     "name": "stdout",
     "output_type": "stream",
     "text": [
      "WARNING:tensorflow:From <ipython-input-10-8317ccc7081f>:22: BasicLSTMCell.__init__ (from tensorflow.python.ops.rnn_cell_impl) is deprecated and will be removed in a future version.\n",
      "Instructions for updating:\n",
      "This class is equivalent as tf.keras.layers.LSTMCell, and will be replaced by that in Tensorflow 2.0.\n",
      "WARNING:tensorflow:From <ipython-input-10-8317ccc7081f>:22: MultiRNNCell.__init__ (from tensorflow.python.ops.rnn_cell_impl) is deprecated and will be removed in a future version.\n",
      "Instructions for updating:\n",
      "This class is equivalent as tf.keras.layers.StackedRNNCells, and will be replaced by that in Tensorflow 2.0.\n",
      "WARNING:tensorflow:From <ipython-input-10-8317ccc7081f>:25: static_rnn (from tensorflow.python.ops.rnn) is deprecated and will be removed in a future version.\n",
      "Instructions for updating:\n",
      "Please use `keras.layers.RNN(cell, unroll=True)`, which is equivalent to this API\n"
     ]
    }
   ],
   "source": [
    "#prediction\n",
    "pred = RNN(x, weights, biases)\n",
    "\n",
    "#declare loss\n",
    "cost = tf.reduce_mean(tf.nn.softmax_cross_entropy_with_logits_v2(logits=pred, labels=y))\n",
    "\n",
    "#declare optimizer\n",
    "optimizer = tf.train.RMSPropOptimizer(learning_rate=learning_rate).minimize(cost)"
   ]
  },
  {
   "cell_type": "code",
   "execution_count": 12,
   "metadata": {},
   "outputs": [],
   "source": [
    "#MODEL EVALUATION\n",
    "correct_pred = tf.equal(tf.argmax(pred,1), tf.argmax(y,1))\n",
    "accuracy = tf.reduce_mean(tf.cast(correct_pred, tf.float32))"
   ]
  },
  {
   "cell_type": "code",
   "execution_count": 13,
   "metadata": {},
   "outputs": [],
   "source": [
    "\n",
    "#variable initializer\n",
    "init = tf.global_variables_initializer()"
   ]
  },
  {
   "cell_type": "code",
   "execution_count": null,
   "metadata": {},
   "outputs": [
    {
     "name": "stdout",
     "output_type": "stream",
     "text": [
      "Iter= 1000, Average Loss= 0.455655, Average Accuracy= 90.50%\n",
      "['long', 'ago,', 'the'] - [mice] vs [mice]\n",
      "Iter= 2000, Average Loss= 0.000000, Average Accuracy= 100.00%\n",
      "['the', 'mice', 'had'] - [a] vs [a]\n",
      "Iter= 3000, Average Loss= 0.000000, Average Accuracy= 100.00%\n",
      "['ago,', 'the', 'mice'] - [had] vs [had]\n",
      "Iter= 4000, Average Loss= 0.000000, Average Accuracy= 100.00%\n",
      "['mice', 'had', 'a'] - [general] vs [general]\n",
      "Iter= 5000, Average Loss= 0.000000, Average Accuracy= 100.00%\n",
      "['had', 'a', 'general'] - [council] vs [council]\n",
      "Iter= 6000, Average Loss= 0.000000, Average Accuracy= 100.00%\n",
      "['had', 'a', 'general'] - [council] vs [council]\n",
      "Iter= 7000, Average Loss= 0.000000, Average Accuracy= 100.00%\n",
      "['long', 'ago,', 'the'] - [mice] vs [mice]\n",
      "Iter= 8000, Average Loss= 0.000000, Average Accuracy= 100.00%\n",
      "['ago,', 'the', 'mice'] - [had] vs [had]\n",
      "Iter= 9000, Average Loss= 0.000000, Average Accuracy= 100.00%\n",
      "['ago,', 'the', 'mice'] - [had] vs [had]\n",
      "Iter= 10000, Average Loss= 0.000000, Average Accuracy= 100.00%\n",
      "['had', 'a', 'general'] - [council] vs [council]\n",
      "Iter= 11000, Average Loss= 0.000000, Average Accuracy= 100.00%\n",
      "['had', 'a', 'general'] - [council] vs [council]\n",
      "Iter= 12000, Average Loss= 0.000000, Average Accuracy= 100.00%\n",
      "['long', 'ago,', 'the'] - [mice] vs [mice]\n",
      "Iter= 13000, Average Loss= 0.000000, Average Accuracy= 100.00%\n",
      "['long', 'ago,', 'the'] - [mice] vs [mice]\n",
      "Iter= 14000, Average Loss= 0.000000, Average Accuracy= 100.00%\n",
      "['long', 'ago,', 'the'] - [mice] vs [mice]\n",
      "Iter= 15000, Average Loss= 0.000000, Average Accuracy= 100.00%\n",
      "['long', 'ago,', 'the'] - [mice] vs [mice]\n",
      "Iter= 16000, Average Loss= 0.000000, Average Accuracy= 100.00%\n",
      "['ago,', 'the', 'mice'] - [had] vs [had]\n",
      "Iter= 17000, Average Loss= 0.000000, Average Accuracy= 100.00%\n",
      "['had', 'a', 'general'] - [council] vs [council]\n",
      "Iter= 18000, Average Loss= 0.000000, Average Accuracy= 100.00%\n",
      "['had', 'a', 'general'] - [council] vs [council]\n",
      "Iter= 19000, Average Loss= 0.000000, Average Accuracy= 100.00%\n",
      "['long', 'ago,', 'the'] - [mice] vs [mice]\n",
      "Iter= 20000, Average Loss= 0.000000, Average Accuracy= 100.00%\n",
      "['the', 'mice', 'had'] - [a] vs [a]\n",
      "Iter= 21000, Average Loss= 0.000000, Average Accuracy= 100.00%\n",
      "['ago,', 'the', 'mice'] - [had] vs [had]\n",
      "Iter= 22000, Average Loss= 0.000000, Average Accuracy= 100.00%\n",
      "['ago,', 'the', 'mice'] - [had] vs [had]\n",
      "Iter= 23000, Average Loss= 0.000000, Average Accuracy= 100.00%\n",
      "['had', 'a', 'general'] - [council] vs [council]\n",
      "Iter= 24000, Average Loss= 0.000000, Average Accuracy= 100.00%\n",
      "['mice', 'had', 'a'] - [general] vs [general]\n",
      "Iter= 25000, Average Loss= 0.000000, Average Accuracy= 100.00%\n",
      "['mice', 'had', 'a'] - [general] vs [general]\n",
      "Iter= 26000, Average Loss= 0.000000, Average Accuracy= 100.00%\n",
      "['had', 'a', 'general'] - [council] vs [council]\n",
      "Iter= 27000, Average Loss= 0.000000, Average Accuracy= 100.00%\n",
      "['long', 'ago,', 'the'] - [mice] vs [mice]\n",
      "Iter= 28000, Average Loss= 0.000000, Average Accuracy= 100.00%\n",
      "['ago,', 'the', 'mice'] - [had] vs [had]\n",
      "Iter= 29000, Average Loss= 0.000000, Average Accuracy= 100.00%\n",
      "['had', 'a', 'general'] - [council] vs [council]\n",
      "Iter= 30000, Average Loss= 0.000000, Average Accuracy= 100.00%\n",
      "['had', 'a', 'general'] - [council] vs [council]\n",
      "Iter= 31000, Average Loss= 0.000000, Average Accuracy= 100.00%\n",
      "['ago,', 'the', 'mice'] - [had] vs [had]\n",
      "Iter= 32000, Average Loss= 0.000000, Average Accuracy= 100.00%\n",
      "['had', 'a', 'general'] - [council] vs [council]\n",
      "Iter= 33000, Average Loss= 0.000000, Average Accuracy= 100.00%\n",
      "['the', 'mice', 'had'] - [a] vs [a]\n",
      "Iter= 34000, Average Loss= 0.000000, Average Accuracy= 100.00%\n",
      "['had', 'a', 'general'] - [council] vs [council]\n",
      "Iter= 35000, Average Loss= 0.000000, Average Accuracy= 100.00%\n",
      "['ago,', 'the', 'mice'] - [had] vs [had]\n",
      "Iter= 36000, Average Loss= 0.000000, Average Accuracy= 100.00%\n",
      "['the', 'mice', 'had'] - [a] vs [a]\n",
      "Iter= 37000, Average Loss= 0.000000, Average Accuracy= 100.00%\n",
      "['ago,', 'the', 'mice'] - [had] vs [had]\n",
      "Iter= 38000, Average Loss= 0.000000, Average Accuracy= 100.00%\n",
      "['had', 'a', 'general'] - [council] vs [council]\n",
      "Iter= 39000, Average Loss= 0.000000, Average Accuracy= 100.00%\n",
      "['mice', 'had', 'a'] - [general] vs [general]\n",
      "Iter= 40000, Average Loss= 0.000000, Average Accuracy= 100.00%\n",
      "['long', 'ago,', 'the'] - [mice] vs [mice]\n",
      "Iter= 41000, Average Loss= 0.000000, Average Accuracy= 100.00%\n",
      "['long', 'ago,', 'the'] - [mice] vs [mice]\n",
      "Iter= 42000, Average Loss= 0.000000, Average Accuracy= 100.00%\n",
      "['ago,', 'the', 'mice'] - [had] vs [had]\n",
      "Iter= 43000, Average Loss= 0.000000, Average Accuracy= 100.00%\n",
      "['the', 'mice', 'had'] - [a] vs [a]\n",
      "Iter= 44000, Average Loss= 0.000000, Average Accuracy= 100.00%\n",
      "['mice', 'had', 'a'] - [general] vs [general]\n",
      "Iter= 45000, Average Loss= 0.000000, Average Accuracy= 100.00%\n",
      "['the', 'mice', 'had'] - [a] vs [a]\n",
      "Iter= 46000, Average Loss= 0.000000, Average Accuracy= 100.00%\n",
      "['the', 'mice', 'had'] - [a] vs [a]\n",
      "Iter= 47000, Average Loss= 0.000000, Average Accuracy= 100.00%\n",
      "['long', 'ago,', 'the'] - [mice] vs [mice]\n",
      "Iter= 48000, Average Loss= 0.000000, Average Accuracy= 100.00%\n",
      "['the', 'mice', 'had'] - [a] vs [a]\n",
      "Iter= 49000, Average Loss= 0.000000, Average Accuracy= 100.00%\n",
      "['had', 'a', 'general'] - [council] vs [council]\n",
      "Iter= 50000, Average Loss= 0.000000, Average Accuracy= 100.00%\n",
      "['ago,', 'the', 'mice'] - [had] vs [had]\n",
      "Optimization Finished!\n",
      "Elapsed time:  32.01567642291387min\n",
      "Run on command line.\n",
      " tensorboard --logdir=C:\\Users\\PABITRA\\SELF\n",
      "Point your web browser to: http://localhost:6006/\n",
      "3 words: had a general\n",
      "had a general council a mice had a general council a mice had a general council a mice had a general council a mice had a general council a mice had a general council a\n",
      "3 words: long ago the\n",
      "Word not in dictionary\n",
      "3 words: we should always\n",
      "we should always a mice had a general council a mice had a general council a mice had a general council a mice had a general council a mice had a general council a mice\n",
      "3 words: and nobody spoke\n",
      "Word not in dictionary\n",
      "3 words: \n",
      "3 words: \n",
      "3 words: \n",
      "3 words: \n",
      "3 words: \n",
      "3 words: \n",
      "3 words: had a general\n",
      "had a general council a mice had a general council a mice had a general council a mice had a general council a mice had a general council a mice had a general council a\n"
     ]
    }
   ],
   "source": [
    "# Launch the graph\n",
    "with tf.Session() as session:\n",
    "    session.run(init)\n",
    "    step = 0\n",
    "    offset = random.randint(0,n_input+1)\n",
    "    end_offset = n_input + 1\n",
    "    acc_total = 0\n",
    "    loss_total = 0\n",
    " \n",
    "    #writer.add_graph(session.graph)\n",
    " \n",
    "    while step < training_iters: \n",
    "        offset = random.randint(0, n_input+1)\n",
    " \n",
    "        symbols_in_keys = [ [dictionary[ str(training_data[i])]] for i in range(offset, offset+n_input) ]\n",
    "        symbols_in_keys = np.reshape(np.array(symbols_in_keys), [-1, n_input, 1])\n",
    " \n",
    "        symbols_out_onehot = np.zeros([vocab_size], dtype=float)\n",
    "        symbols_out_onehot[dictionary[str(training_data[offset+n_input])]] = 1.0\n",
    "        symbols_out_onehot = np.reshape(symbols_out_onehot,[1,-1])\n",
    " \n",
    "        _, acc, loss, onehot_pred = session.run([optimizer, accuracy, cost, pred], \n",
    "                                                feed_dict={x: symbols_in_keys, y: symbols_out_onehot})\n",
    "        loss_total += loss\n",
    "        acc_total += acc\n",
    "        if (step+1) % display_step == 0:\n",
    "            print(\"Iter= \" + str(step+1) + \", Average Loss= \" +\n",
    "                  \"{:.6f}\".format(loss_total/display_step) + \", Average Accuracy= \" +\n",
    "                  \"{:.2f}%\".format(100*acc_total/display_step))\n",
    "            acc_total = 0\n",
    "            loss_total = 0\n",
    "            symbols_in = [training_data[i] for i in range(offset, offset + n_input)]\n",
    "            symbols_out = training_data[offset + n_input]\n",
    "            symbols_out_pred = reverse_dictionary[int(tf.argmax(onehot_pred, 1).eval())]\n",
    "            print(\"%s - [%s] vs [%s]\" % (symbols_in,symbols_out,symbols_out_pred))\n",
    "        step += 1\n",
    "        offset += (n_input+1)\n",
    "    print(\"Optimization Finished!\")\n",
    "    print(\"Elapsed time: \", elapsed(time.time() - start_time))\n",
    "    print(\"Run on command line.\")\n",
    "    print(\" tensorboard --logdir=%s\" % (logs_path))\n",
    "    print(\"Point your web browser to: http://localhost:6006/\")\n",
    "    while True:\n",
    "        prompt = \"%s words: \" % n_input\n",
    "        sentence = input(prompt)\n",
    "        sentence = sentence.strip()\n",
    "        words = sentence.split(' ')\n",
    "        if len(words) != n_input:\n",
    "            continue\n",
    "        try:\n",
    "            symbols_in_keys = [dictionary[str(words[i])] for i in range(len(words))]\n",
    "            for i in range(32):\n",
    "                keys = np.reshape(np.array(symbols_in_keys), [-1, n_input, 1])\n",
    "                onehot_pred = session.run(pred, feed_dict={x: keys})\n",
    "                onehot_pred_index = int(tf.argmax(onehot_pred, 1).eval())\n",
    "                sentence = \"%s %s\" % (sentence,reverse_dictionary[onehot_pred_index])\n",
    "                symbols_in_keys = symbols_in_keys[1:]\n",
    "                symbols_in_keys.append(onehot_pred_index)\n",
    "            print(sentence)\n",
    "        except:\n",
    "            print(\"Word not in dictionary\")"
   ]
  },
  {
   "cell_type": "code",
   "execution_count": null,
   "metadata": {},
   "outputs": [],
   "source": []
  }
 ],
 "metadata": {
  "kernelspec": {
   "display_name": "Python 3",
   "language": "python",
   "name": "python3"
  },
  "language_info": {
   "codemirror_mode": {
    "name": "ipython",
    "version": 3
   },
   "file_extension": ".py",
   "mimetype": "text/x-python",
   "name": "python",
   "nbconvert_exporter": "python",
   "pygments_lexer": "ipython3",
   "version": "3.6.9"
  }
 },
 "nbformat": 4,
 "nbformat_minor": 2
}
